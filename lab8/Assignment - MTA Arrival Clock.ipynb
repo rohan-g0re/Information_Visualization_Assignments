{
 "cells": [
  {
   "cell_type": "markdown",
   "id": "6b60d727",
   "metadata": {},
   "source": [
    "# Assignment: MTA Arrival Clock\n",
    "\n",
    "In the \"MTA Arrival Clock\" case study, we have created an alternative design to visualize the arrival time information that looks at the following:\n",
    "\n",
    "<div><img src=\"https://user-images.githubusercontent.com/3606672/246465520-5b7cad68-4722-4192-ad69-d0916c8f9cea.svg\" width=400/></div>\n",
    "\n",
    "As noted in the case study, it has the following drawbacks:\n",
    "\n",
    "* Only trains arriving within the next 10 min are displayed.\n",
    "* When two or more trains have the same arrival time, the subway line symbols and corresponding annotations will overlap.\n",
    "\n",
    "## Task:\n",
    "\n",
    "In this assignment, your task is to come up with a new design that addresses at least one of the two aforementioned drawbacks. You can either use the existing dot plot design or come up with a complete new design. The requirements of the design is the following:\n",
    "\n",
    "* The dimension of the visualization is fixed (833x200).\n",
    "* The design should make it easy to extract the arrival time information for each of the upcoming trains.\n",
    "* The arrival time information should be legible from afar.\n",
    "* Be mindful about utilizing the available spaces.\n",
    "\n",
    "Please use this notebook for this assignment."
   ]
  },
  {
   "cell_type": "code",
   "execution_count": null,
   "id": "96d227e0",
   "metadata": {},
   "outputs": [],
   "source": [
    "import altair as alt\n",
    "import pandas as pd\n",
    "import numpy as np\n",
    "\n",
    "df = pd.DataFrame({\n",
    "    \"line\": [\"F\", \"F\", \"E\", \"M\"],\n",
    "    \"arrival_time\": [3, 6, 6, 0], \n",
    "    \"destination\": [\"Jamaica-179 St\", \"Kings Hwy\", \"Jamaica-179 St\", \"Forest Hills-71 Av\"]})\n",
    "line_color = pd.DataFrame({\n",
    "    \"line\": [\"E\", \"F\", \"M\"],\n",
    "    \"color\": [\"#0039a6\", \"#ff6319\", \"#ff6319\"]\n",
    "})"
   ]
  },
  {
   "cell_type": "code",
   "execution_count": null,
   "id": "2c1a2da3",
   "metadata": {},
   "outputs": [],
   "source": [
    "# Your code here..."
   ]
  }
 ],
 "metadata": {
  "kernelspec": {
   "display_name": "Python 3 (ipykernel)",
   "language": "python",
   "name": "python3"
  },
  "language_info": {
   "codemirror_mode": {
    "name": "ipython",
    "version": 3
   },
   "file_extension": ".py",
   "mimetype": "text/x-python",
   "name": "python",
   "nbconvert_exporter": "python",
   "pygments_lexer": "ipython3",
   "version": "3.10.9"
  }
 },
 "nbformat": 4,
 "nbformat_minor": 5
}
