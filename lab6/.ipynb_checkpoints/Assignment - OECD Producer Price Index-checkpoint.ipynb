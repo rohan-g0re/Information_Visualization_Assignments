{
 "cells": [
  {
   "cell_type": "markdown",
   "id": "590cf80d",
   "metadata": {},
   "source": [
    "# Assignment: OECD Producer Price Index\n",
    "\n",
    "The [producer price index](https://en.wikipedia.org/wiki/Producer_price_index) (PPI) measures the rate of change of price for products sold as they leave the producer. [OECD](http://oecd.org/), an intergovernmental organization, maintains a dataset of PPI for countries around the world. In this assignment, you will visualize the PPI of various countries from Jan 2011 to Jan 2023 as high dimensional data.\n",
    "\n",
    "## Data\n",
    "\n",
    "* [PPI dataset](https://data.oecd.org/price/producer-price-indices-ppi.htm#indicator-chart)\n",
    "\n",
    "The important columns of this dataset are `LOCATION`, `TIME` and `Value`. We will treat the per-country PPI values over time as a single data point. I.e. Each high dimension data point consists of all the values from Jan 2011 to Jan 2023 for a given country. You may want to use `pandas.pivot` to switch the data frame from long form to wide form. For this assignment, we will replace all `NaN` values by 0. \n",
    "\n",
    "## Task\n",
    "\n",
    "Your task for this assignment is to find a two-dimensional embedding of this high dimensional dataset that clusters countries with similar PPI value history together. The final visualization should be a 2D scatter plot. The x and y axis should map to the components computed from the dimension reduction algorithm.  The location information should be encoded as color.\n",
    "\n",
    "Please use this notebook for this assignment."
   ]
  },
  {
   "cell_type": "code",
   "execution_count": 1,
   "id": "a8ea1165",
   "metadata": {},
   "outputs": [],
   "source": [
    "import altair as alt\n",
    "import pandas as pd\n",
    "import sklearn\n",
    "\n",
    "url = \"https://github.com/qnzhou/practical_data_visualization_in_python/files/14559866/oecd_ppi.csv\"\n",
    "data = pd.read_csv(url)"
   ]
  },
  {
   "cell_type": "code",
   "execution_count": 2,
   "id": "1c8e3635",
   "metadata": {
    "scrolled": true
   },
   "outputs": [],
   "source": [
    "# Your code here..."
   ]
  }
 ],
 "metadata": {
  "kernelspec": {
   "display_name": "Python 3 (ipykernel)",
   "language": "python",
   "name": "python3"
  },
  "language_info": {
   "codemirror_mode": {
    "name": "ipython",
    "version": 3
   },
   "file_extension": ".py",
   "mimetype": "text/x-python",
   "name": "python",
   "nbconvert_exporter": "python",
   "pygments_lexer": "ipython3",
   "version": "3.10.13"
  }
 },
 "nbformat": 4,
 "nbformat_minor": 5
}
